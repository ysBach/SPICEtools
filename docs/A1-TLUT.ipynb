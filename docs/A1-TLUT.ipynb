{
 "cells": [
  {
   "cell_type": "markdown",
   "metadata": {},
   "source": [
    "# TLUT\n",
    "Thermal radiation related Look-up-table (TLUT).\n",
    "\n",
    "This notebook is not necessarily intended to be run by the users because it is just a way to generate a simple thermal radiation related model data (based on Near-Earth Asteroid Thermal Model, NEATM, originally by [Harris A. W. 1998 Icar. 131, 291](https://ui.adsabs.harvard.edu/abs/1998Icar..131..291H/abstract)).\n",
    "\n",
    "The calculation is based on the package [`yssbtmpy`](https://github.com/ysBach/yssbtmpy) distributed under the MIT license."
   ]
  },
  {
   "cell_type": "code",
   "execution_count": 1,
   "metadata": {},
   "outputs": [],
   "source": [
    "%config InlineBackend.figure_format = 'retina'\n",
    "# %matplotlib notebook\n",
    "import numpy as np\n",
    "from IPython.core.interactiveshell import InteractiveShell\n",
    "from matplotlib import pyplot as plt\n",
    "\n",
    "InteractiveShell.ast_node_interactivity = 'last_expr'\n",
    "\n",
    "# We need to do it in a separate cell. See:\n",
    "# https://github.com/jupyter/notebook/issues/3385\n",
    "plt.style.use('default')\n",
    "import yssbtmpy as tm\n",
    "import pandas as pd"
   ]
  },
  {
   "cell_type": "code",
   "execution_count": 2,
   "metadata": {},
   "outputs": [],
   "source": [
    "flams = []\n",
    "alphas = np.arange(0, 180, 5)\n",
    "rhels = np.arange(0.5, 20, 0.5)\n",
    "for alpha in alphas:\n",
    "    _flams = []\n",
    "    for rhel in rhels:\n",
    "        sb = tm.NEATMBody(r_hel=rhel, temp_eqm_1au=450, alpha=alpha, skip_quantity=True)\n",
    "        _flams.append(0.9*sb.calc_flux_ther(5)[0])  # emissivity 0.9\n",
    "    flams.append(np.array(_flams))\n",
    "flams = np.array(flams)\n",
    "abmags = np.around(tm.flam2ab(flams, 5), 3)\n",
    "df = pd.DataFrame(abmags, index=alphas, columns=rhels)\n",
    "df.to_csv(\"abmags_neatm_T1_450_5um.csv\")"
   ]
  },
  {
   "cell_type": "code",
   "execution_count": null,
   "metadata": {},
   "outputs": [],
   "source": []
  }
 ],
 "metadata": {
  "kernelspec": {
   "display_name": "base",
   "language": "python",
   "name": "python3"
  },
  "language_info": {
   "codemirror_mode": {
    "name": "ipython",
    "version": 3
   },
   "file_extension": ".py",
   "mimetype": "text/x-python",
   "name": "python",
   "nbconvert_exporter": "python",
   "pygments_lexer": "ipython3",
   "version": "3.10.13"
  }
 },
 "nbformat": 4,
 "nbformat_minor": 2
}
